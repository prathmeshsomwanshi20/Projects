{
 "cells": [
  {
   "cell_type": "code",
   "execution_count": 1,
   "id": "8858ea25-bad6-4040-9d5e-5f35cae30709",
   "metadata": {},
   "outputs": [
    {
     "name": "stdin",
     "output_type": "stream",
     "text": [
      "Enter the temperature:  35\n",
      "Enter the density:  1.0658\n",
      "Enter the age:  62\n",
      "Enter the skin type:  oily\n"
     ]
    },
    {
     "name": "stdout",
     "output_type": "stream",
     "text": [
      "Predicted Depth:  5.6 Predicted Time:  3.6\n",
      "Predicted Bloodstream Mixing:  Yes Predicted Skin Reaction:  mild irritation\n"
     ]
    },
    {
     "name": "stderr",
     "output_type": "stream",
     "text": [
      "C:\\Users\\Admin\\anaconda3\\Lib\\site-packages\\sklearn\\base.py:439: UserWarning: X does not have valid feature names, but LinearRegression was fitted with feature names\n",
      "  warnings.warn(\n",
      "C:\\Users\\Admin\\anaconda3\\Lib\\site-packages\\sklearn\\base.py:439: UserWarning: X does not have valid feature names, but RandomForestClassifier was fitted with feature names\n",
      "  warnings.warn(\n",
      "C:\\Users\\Admin\\anaconda3\\Lib\\site-packages\\sklearn\\base.py:439: UserWarning: X does not have valid feature names, but RandomForestClassifier was fitted with feature names\n",
      "  warnings.warn(\n"
     ]
    }
   ],
   "source": [
    "import pandas as pd\n",
    "from sklearn.model_selection import train_test_split\n",
    "from sklearn.linear_model import LinearRegression\n",
    "from sklearn.svm import SVR\n",
    "from sklearn.ensemble import RandomForestClassifier\n",
    "from sklearn.preprocessing import LabelEncoder\n",
    "from sklearn.metrics import mean_squared_error, accuracy_score\n",
    "import numpy as np\n",
    "\n",
    "# Load Dataset 1 (predicting depth and time based on temperature and density)\n",
    "df1 = pd.read_csv('dataset1.csv')\n",
    "\n",
    "# Separate features and target variables for Dataset 1\n",
    "X1 = df1[['Skin Temperature (°C)', 'Ointment Density (g/cm³)']]\n",
    "y1 = df1[['Predicted Penetration Depth (mm)', 'Time to Reach Depth (min)']]\n",
    "\n",
    "# Split data for training and testing for Dataset 1\n",
    "X1_train, X1_test, y1_train, y1_test = train_test_split(X1, y1, test_size=0.2, random_state=42)\n",
    "\n",
    "# Train a linear regression model for Dataset 1\n",
    "lr_model = LinearRegression()\n",
    "lr_model.fit(X1_train, y1_train)\n",
    "\n",
    "# Function to predict depth and time based on temperature and density\n",
    "def predict_depth_time(temp, density):\n",
    "    prediction = lr_model.predict([[temp, density]])\n",
    "    depth, time = prediction[0]\n",
    "    return round(depth, 1), round(time, 1)\n",
    "\n",
    "# Load Dataset 2 (predicting bloodstream mixing and skin reaction)\n",
    "df2 = pd.read_csv('generated_skin_reaction_dataset.csv')\n",
    "\n",
    "# Encode categorical variables in Dataset 2\n",
    "le_skin_type = LabelEncoder()\n",
    "df2['skin_type'] = le_skin_type.fit_transform(df2['skin_type'])  # e.g., dry=0, oily=1\n",
    "\n",
    "le_bloodstream_mixing = LabelEncoder()\n",
    "df2['bloodstream_mixing'] = le_bloodstream_mixing.fit_transform(df2['bloodstream_mixing'])  # No=0, Yes=1\n",
    "\n",
    "le_skin_reaction = LabelEncoder()\n",
    "df2['skin_reaction'] = le_skin_reaction.fit_transform(df2['skin_reaction'])  # no reaction=0, irritation=1, redness=2, etc.\n",
    "\n",
    "# Separate features and target variables for Dataset 2\n",
    "X2 = df2[['depth', 'time', 'skin_type', 'age']]\n",
    "y_bloodstream = df2['bloodstream_mixing']\n",
    "y_reaction = df2['skin_reaction']\n",
    "\n",
    "# Split data for training and testing for Dataset 2\n",
    "X2_train, X2_test, y_bloodstream_train, y_bloodstream_test = train_test_split(X2, y_bloodstream, test_size=0.2, random_state=42)\n",
    "X2_train, X2_test, y_reaction_train, y_reaction_test = train_test_split(X2, y_reaction, test_size=0.2, random_state=42)\n",
    "\n",
    "# Train RandomForest models for bloodstream mixing and skin reaction\n",
    "rf_bloodstream = RandomForestClassifier()\n",
    "rf_bloodstream.fit(X2_train, y_bloodstream_train)\n",
    "\n",
    "rf_reaction = RandomForestClassifier()\n",
    "rf_reaction.fit(X2_train, y_reaction_train)\n",
    "\n",
    "# Function to predict bloodstream mixing and skin reaction with readable outputs\n",
    "def predict_reaction_and_mixing(depth, time, skin_type, age):\n",
    "    # Encode the skin type input before prediction\n",
    "    skin_type_encoded = le_skin_type.transform([skin_type])[0]  # Convert 'dry' or 'oily' to corresponding integer\n",
    "    input_data = [[depth, time, skin_type_encoded, age]]\n",
    "    \n",
    "    # Predict bloodstream mixing\n",
    "    mixing_pred = rf_bloodstream.predict(input_data)[0]\n",
    "    mixing_result = le_bloodstream_mixing.inverse_transform([mixing_pred])[0]  # Convert 0/1 back to 'No'/'Yes'\n",
    "    \n",
    "    # Predict skin reaction\n",
    "    reaction_pred = rf_reaction.predict(input_data)[0]\n",
    "    reaction_result = le_skin_reaction.inverse_transform([reaction_pred])[0]  # Convert to readable reaction label\n",
    "    \n",
    "    return mixing_result, reaction_result\n",
    "\n",
    "# Example usage of the full prediction pipeline\n",
    "temp_input = float(input(\"Enter the temperature: \")) # example temperature\n",
    "density_input = float(input(\"Enter the density: \"))  # example density\n",
    "age_input = int(input(\"Enter the age: \"))  # example age\n",
    "skin_type_input = input(\"Enter the skin type: \")  # example skin type\n",
    "\n",
    "# Step 1: Predict depth and time using Dataset 1 model\n",
    "predicted_depth, predicted_time = predict_depth_time(temp_input, density_input)\n",
    "print(\"Predicted Depth: \", predicted_depth, \"Predicted Time: \", predicted_time)\n",
    "\n",
    "# Step 2: Predict bloodstream mixing and skin reaction using Dataset 2 model\n",
    "predicted_mixing, predicted_reaction = predict_reaction_and_mixing(predicted_depth, predicted_time, skin_type_input, age_input)\n",
    "print(\"Predicted Bloodstream Mixing: \", predicted_mixing, \"Predicted Skin Reaction: \" ,predicted_reaction)\n"
   ]
  },
  {
   "cell_type": "code",
   "execution_count": null,
   "id": "18cae586-f666-4a8e-8c1b-8ab57205c61e",
   "metadata": {},
   "outputs": [],
   "source": []
  },
  {
   "cell_type": "code",
   "execution_count": null,
   "id": "60019afa-a7fc-4ec2-9b80-8aba81f3d1a7",
   "metadata": {},
   "outputs": [],
   "source": []
  },
  {
   "cell_type": "code",
   "execution_count": null,
   "id": "9cde8f55-c0de-41f1-b930-d68e5efc0faa",
   "metadata": {},
   "outputs": [],
   "source": [
    "df1"
   ]
  },
  {
   "cell_type": "code",
   "execution_count": null,
   "id": "8205d862-4a24-435a-9398-31877b34ffa2",
   "metadata": {},
   "outputs": [],
   "source": [
    "df2"
   ]
  },
  {
   "cell_type": "code",
   "execution_count": null,
   "id": "2d747d56-c479-4f71-b859-0c5382d33388",
   "metadata": {},
   "outputs": [],
   "source": []
  },
  {
   "cell_type": "code",
   "execution_count": null,
   "id": "033f8eff-3044-48a5-a8cc-f3ed83dd1577",
   "metadata": {},
   "outputs": [],
   "source": []
  },
  {
   "cell_type": "code",
   "execution_count": null,
   "id": "0a48841c-85c8-4f0b-96ac-48fc5ad050ac",
   "metadata": {},
   "outputs": [],
   "source": []
  }
 ],
 "metadata": {
  "kernelspec": {
   "display_name": "Python 3 (ipykernel)",
   "language": "python",
   "name": "python3"
  },
  "language_info": {
   "codemirror_mode": {
    "name": "ipython",
    "version": 3
   },
   "file_extension": ".py",
   "mimetype": "text/x-python",
   "name": "python",
   "nbconvert_exporter": "python",
   "pygments_lexer": "ipython3",
   "version": "3.11.7"
  }
 },
 "nbformat": 4,
 "nbformat_minor": 5
}
